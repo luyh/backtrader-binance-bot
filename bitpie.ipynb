{
 "cells": [
  {
   "cell_type": "code",
   "execution_count": 23,
   "metadata": {
    "collapsed": false
   },
   "outputs": [],
   "source": [
    "import requests,urllib\n",
    "\n",
    "domain = 'api.expie.com'\n",
    "rootPath = '/v1'\n",
    "url = 'https://' + domain + rootPath + '/markets'\n",
    "token = '169753f08c60eefae8e1bebb2048e204596e73e0567f64362627ea0b9782e237'\n",
    "\n",
    "request = urllib.request.Request(url)\n",
    "request.add_header(\"Authorization\", \"Bearer\" + token)\n"
   ]
  },
  {
   "cell_type": "code",
   "execution_count": null,
   "metadata": {},
   "outputs": [],
   "source": []
  }
 ],
 "metadata": {
  "kernelspec": {
   "display_name": "Python 2",
   "language": "python",
   "name": "python2"
  },
  "language_info": {
   "codemirror_mode": {
    "name": "ipython",
    "version": 2
   },
   "file_extension": ".py",
   "mimetype": "text/x-python",
   "name": "python",
   "nbconvert_exporter": "python",
   "pygments_lexer": "ipython2",
   "version": "2.7.6"
  }
 },
 "nbformat": 4,
 "nbformat_minor": 0
}
